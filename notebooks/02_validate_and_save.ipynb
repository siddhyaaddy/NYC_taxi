{
 "cells": [
  {
   "cell_type": "code",
   "execution_count": null,
   "id": "429b4a07-c8bb-4e7f-9b2e-efb9e8d05112",
   "metadata": {},
   "outputs": [],
   "source": [
    "from IPython.core.interactiveshell import InteractiveShell\n",
    "InteractiveShell.ast_node_interactivity = \"all\""
   ]
  },
  {
   "cell_type": "code",
   "execution_count": null,
   "id": "6208b60e-51ad-400b-89f4-b58a681614d7",
   "metadata": {},
   "outputs": [],
   "source": [
    "import pandas as pd\n",
    "from pathlib import Path\n",
    "import pyarrow.parquet as pq\n",
    "\n",
    "month = 1\n",
    "year = 2023\n",
    "path = Path(\"..\") / \"data\" / \"raw\" / f\"rides_{year}_{month:02}.parquet\"\n",
    "\n",
    "table = pq.read_table(path)\n",
    "rides = table.to_pandas()\n",
    "rides.head()"
   ]
  },
  {
   "cell_type": "code",
   "execution_count": null,
   "id": "0cf89d9b-d32b-4710-aaf3-6a4695f7aaeb",
   "metadata": {},
   "outputs": [],
   "source": [
    "rides_cp = rides.copy()\n",
    "rides_cp[\"duration\"] = rides[\"tpep_dropoff_datetime\"] - rides[\"tpep_pickup_datetime\"]\n",
    "rides_cp.head()"
   ]
  },
  {
   "cell_type": "code",
   "execution_count": null,
   "id": "2ee91472-14cc-4c2b-b78f-b7345da48379",
   "metadata": {},
   "outputs": [],
   "source": [
    "rides_cp[\"duration\"].describe().T"
   ]
  },
  {
   "cell_type": "code",
   "execution_count": null,
   "id": "7a56a96c-f547-4994-83c2-f8dd1e54f38f",
   "metadata": {},
   "outputs": [],
   "source": [
    "rides_cp[\"duration\"].quantile(0)\n",
    "rides_cp[\"duration\"].quantile(0.01)\n",
    "rides_cp[\"duration\"].quantile(0.995)\n",
    "rides_cp[\"duration\"].quantile(0.999)"
   ]
  },
  {
   "cell_type": "code",
   "execution_count": null,
   "id": "e02a059e-063a-425a-b6b6-648d2264f27d",
   "metadata": {},
   "outputs": [],
   "source": [
    "duration_filter = (rides_cp[\"duration\"] > pd.Timedelta(0)) & (rides_cp[\"duration\"] <= pd.Timedelta(hours=5))\n",
    "sum(~duration_filter)"
   ]
  },
  {
   "cell_type": "code",
   "execution_count": null,
   "id": "a31cfd8b-63e5-4e74-a5f1-f29d70f39921",
   "metadata": {},
   "outputs": [],
   "source": [
    "rides_cp[\"total_amount\"].describe().T"
   ]
  },
  {
   "cell_type": "code",
   "execution_count": null,
   "id": "271a1b01-e0cb-438e-8424-c89741aea487",
   "metadata": {},
   "outputs": [],
   "source": [
    "rides_cp[\"total_amount\"].quantile(0.0)\n",
    "rides_cp[\"total_amount\"].quantile(0.01)\n",
    "rides_cp[\"total_amount\"].quantile(0.995)\n",
    "rides_cp[\"total_amount\"].quantile(0.999)"
   ]
  },
  {
   "cell_type": "code",
   "execution_count": null,
   "id": "37f5dab0-5835-4cc9-a3ec-4166c6effcc8",
   "metadata": {},
   "outputs": [],
   "source": [
    "rides_cp[\"total_amount\"].max()"
   ]
  },
  {
   "cell_type": "code",
   "execution_count": null,
   "id": "08802e98-522c-4dfc-ad21-abd77f767f05",
   "metadata": {},
   "outputs": [],
   "source": [
    "total_amount_filter = (rides_cp[\"total_amount\"]  > 0) & (rides_cp[\"total_amount\"] <= rides_cp[\"total_amount\"].quantile(0.999))\n",
    "sum(~total_amount_filter) / rides_cp.shape[0] * 100"
   ]
  },
  {
   "cell_type": "code",
   "execution_count": null,
   "id": "99b45e78-e346-494b-ace4-89168548859f",
   "metadata": {},
   "outputs": [],
   "source": [
    "rides_cp[\"total_amount\"].plot.box(title=\"Box Plot of Categories\", grid=True)"
   ]
  },
  {
   "cell_type": "code",
   "execution_count": null,
   "id": "1488b164-c434-426c-b22a-2f375756f86a",
   "metadata": {},
   "outputs": [],
   "source": [
    "nyc_locations = ~rides_cp[\"PULocationID\"].isin((1, 264, 265))\n",
    "sum(~nyc_locations)                                        "
   ]
  },
  {
   "cell_type": "code",
   "execution_count": null,
   "id": "4490a50b-b46b-40f6-8ed5-9dbac34e17ef",
   "metadata": {},
   "outputs": [],
   "source": [
    "sorted_df = rides_cp.sort_values(by=\"tpep_pickup_datetime\", ascending=True)  \n",
    "\n",
    "# Get the top 10 (smallest) and bottom 10 (largest) values  \n",
    "top_10 = sorted_df.head(10)  \n",
    "bottom_10 = sorted_df.tail(10)  \n",
    "\n",
    "top_10\n",
    "\n",
    "bottom_10"
   ]
  },
  {
   "cell_type": "code",
   "execution_count": null,
   "id": "f21f5d70-129d-4e96-ad1f-0f5ff1675efb",
   "metadata": {},
   "outputs": [],
   "source": [
    "filter_date_range = (rides_cp[\"tpep_pickup_datetime\"] >= \"2023-01-01\") & (rides_cp[\"tpep_pickup_datetime\"] < \"2023-02-01\")\n",
    "sum(~filter_date_range)"
   ]
  },
  {
   "cell_type": "code",
   "execution_count": null,
   "id": "b84f1b0b-1c0a-4320-90e1-188d4f2bf0e1",
   "metadata": {},
   "outputs": [],
   "source": [
    "final_filter = duration_filter & total_amount_filter & nyc_locations & filter_date_range\n",
    "numbers_dropped = final_filter.shape[0] - sum(final_filter) # numbers dropped\n",
    "numbers_dropped\n",
    "numbers_dropped/final_filter.shape[0] * 100"
   ]
  },
  {
   "cell_type": "code",
   "execution_count": null,
   "id": "9478eb7b-7bd9-4be1-aa06-ff7ca8ee30b7",
   "metadata": {},
   "outputs": [],
   "source": [
    "rides = rides[final_filter]\n",
    "rides = rides[[\"tpep_pickup_datetime\", \"PULocationID\"]]\n",
    "rides.rename(columns={\n",
    "    \"tpep_pickup_datetime\": \"pickup_datetime\",\n",
    "    \"PULocationID\": \"pickup_location_id\"\n",
    "}, inplace=True)\n",
    "rides.head()\n",
    "year = 2023\n",
    "month = 1\n",
    "path = Path(\"..\") / \"data\" / \"processed\" / f\"rides_{year}_{month:02}.parquet\"\n",
    "rides.to_parquet(path, engine=\"pyarrow\", index=False)"
   ]
  },
  {
   "cell_type": "code",
   "execution_count": null,
   "id": "f575ab82-77e6-4685-84f5-95997654da95",
   "metadata": {},
   "outputs": [],
   "source": [
    "rides[rides[\"pickup_location_id\"] == 2]"
   ]
  },
  {
   "cell_type": "code",
   "execution_count": null,
   "id": "5e713255-1b07-4a10-ac3b-eab0cfbdb6fa",
   "metadata": {},
   "outputs": [],
   "source": []
  }
 ],
 "metadata": {
  "kernelspec": {
   "display_name": "Python 3 (ipykernel)",
   "language": "python",
   "name": "python3"
  },
  "language_info": {
   "codemirror_mode": {
    "name": "ipython",
    "version": 3
   },
   "file_extension": ".py",
   "mimetype": "text/x-python",
   "name": "python",
   "nbconvert_exporter": "python",
   "pygments_lexer": "ipython3",
   "version": "3.11.11"
  }
 },
 "nbformat": 4,
 "nbformat_minor": 5
}
